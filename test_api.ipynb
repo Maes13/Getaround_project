{
 "cells": [
  {
   "cell_type": "code",
   "execution_count": 1,
   "metadata": {},
   "outputs": [],
   "source": [
    "import requests\n",
    "import json\n"
   ]
  },
  {
   "cell_type": "code",
   "execution_count": 2,
   "metadata": {},
   "outputs": [
    {
     "name": "stdout",
     "output_type": "stream",
     "text": [
      "Prédiction de prix de location: 154.75523376464844\n"
     ]
    }
   ],
   "source": [
    "import requests\n",
    "\n",
    "# URL de l'endpoint de prédiction\n",
    "url = \"https://my-fastapi-price-pred-fa365ce4b512.herokuapp.com/predict\"\n",
    "\n",
    "# Données à envoyer\n",
    "payload = {\n",
    "    \"model_key\": \"Peugeot\",\n",
    "    \"mileage\": 14699,\n",
    "    \"engine_power\": 100,\n",
    "    \"fuel\": \"diesel\",\n",
    "    \"paint_color\": \"black\",\n",
    "    \"car_type\": \"sedan\",\n",
    "    \"private_parking_available\": False,\n",
    "    \"has_gps\": True,\n",
    "    \"has_air_conditioning\": False,\n",
    "    \"automatic_car\": False,\n",
    "    \"has_getaround_connect\": False,\n",
    "    \"has_speed_regulator\": True,\n",
    "    \"winter_tires\": True\n",
    "}\n",
    "\n",
    "try:\n",
    "    # Envoyer la requête POST avec les données\n",
    "    response = requests.post(url, json=payload)\n",
    "\n",
    "    # Vérifier si la requête a réussi (code 200)\n",
    "    if response.status_code == 200:\n",
    "        data = response.json()\n",
    "        # Vérifier si la clé 'prédiction' est présente dans les données\n",
    "        if \"prédiction\" in data:\n",
    "            print(\"Prédiction de prix de location:\", data[\"prédiction\"])\n",
    "        else:\n",
    "            print(\"Clé 'prédiction' non trouvée dans les données :\", data)\n",
    "    else:\n",
    "        print(\"Erreur lors de la requête :\", response.status_code)\n",
    "        print(response.text)\n",
    "except requests.RequestException as e:\n",
    "    print(\"Erreur de connexion à l'API :\", e)\n"
   ]
  },
  {
   "cell_type": "code",
   "execution_count": null,
   "metadata": {},
   "outputs": [],
   "source": []
  }
 ],
 "metadata": {
  "kernelspec": {
   "display_name": "base",
   "language": "python",
   "name": "python3"
  },
  "language_info": {
   "codemirror_mode": {
    "name": "ipython",
    "version": 3
   },
   "file_extension": ".py",
   "mimetype": "text/x-python",
   "name": "python",
   "nbconvert_exporter": "python",
   "pygments_lexer": "ipython3",
   "version": "3.11.9"
  },
  "orig_nbformat": 4,
  "vscode": {
   "interpreter": {
    "hash": "40d3a090f54c6569ab1632332b64b2c03c39dcf918b08424e98f38b5ae0af88f"
   }
  }
 },
 "nbformat": 4,
 "nbformat_minor": 2
}
